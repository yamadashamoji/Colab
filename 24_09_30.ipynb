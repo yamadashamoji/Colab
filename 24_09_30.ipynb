{
  "nbformat": 4,
  "nbformat_minor": 0,
  "metadata": {
    "colab": {
      "provenance": [],
      "authorship_tag": "ABX9TyO2Yn6kQtTA/GOaTv3mYREa",
      "include_colab_link": true
    },
    "kernelspec": {
      "name": "python3",
      "display_name": "Python 3"
    },
    "language_info": {
      "name": "python"
    }
  },
  "cells": [
    {
      "cell_type": "markdown",
      "metadata": {
        "id": "view-in-github",
        "colab_type": "text"
      },
      "source": [
        "<a href=\"https://colab.research.google.com/github/yamadashamoji/Colab/blob/main/24_09_30.ipynb\" target=\"_parent\"><img src=\"https://colab.research.google.com/assets/colab-badge.svg\" alt=\"Open In Colab\"/></a>"
      ]
    },
    {
      "cell_type": "code",
      "source": [
        "import random\n",
        "\n",
        "sample_list = [\"グー\", \"チョキ\", \"パー\"]\n",
        "\n",
        "you = input(\"グー、チョキ、パーのいずれかを入力してください\")\n",
        "\n",
        "me = random.choice(sample_list)\n",
        "\n",
        "if you == \"グー\" and me == \"チョキ\":\n",
        "  print(\"私は\", me, \"あなたの勝ち\")\n",
        "elif you == \"パー\" and me == \"グー\":\n",
        "  print(\"私は\", me, \"あなたの勝ち\")\n",
        "elif you == \"チョキ\" and me == \"パー\":\n",
        "  print(\"私は\", me, \"あなたの勝ち\")\n",
        "elif you == me:\n",
        "  print(\"私は\", me, \"あいこ\")\n",
        "else:\n",
        "  print(\"私は\", me, \"あなたの負けです\")"
      ],
      "metadata": {
        "colab": {
          "base_uri": "https://localhost:8080/"
        },
        "id": "E0Ke7pReHfT4",
        "outputId": "1ee02a06-3d7c-4ad7-954c-650d32eb728a"
      },
      "execution_count": 4,
      "outputs": [
        {
          "output_type": "stream",
          "name": "stdout",
          "text": [
            "グー、チョキ、パーのいずれかを入力してくださいゲー\n",
            "私は チョキ あなたの負けです\n"
          ]
        }
      ]
    },
    {
      "cell_type": "code",
      "source": [
        "#勝ち続けるまで永遠に続くバージョン\n",
        "\n",
        "import random\n",
        "\n",
        "sample_list = [\"グー\", \"チョキ\", \"パー\"]\n",
        "\n",
        "you = input(\"グー、チョキ、パーのいずれかを入力してください\")\n",
        "\n",
        "while True:\n",
        "  if you in sample_list:\n",
        "    me = random.choice(sample_list)\n",
        "    if you == \"グー\" and me == \"チョキ\":\n",
        "      print(\"私は\", me, \"あなたの勝ち\")\n",
        "      break\n",
        "    elif you == \"パー\" and me == \"グー\":\n",
        "      print(\"私は\", me, \"あなたの勝ち\")\n",
        "      break\n",
        "    elif you == \"チョキ\" and me == \"パー\":\n",
        "      print(\"私は\", me, \"あなたの勝ち\")\n",
        "      break\n",
        "    elif you == me:\n",
        "      print(\"私は\", me, \"あいこ\")\n",
        "      continue\n",
        "    else:\n",
        "      print(\"私は\", me, \"あなたの負けです\")\n",
        "      continue\n",
        "  else:\n",
        "    print(\"打ち間違いがあります。やり直してください\")\n",
        "    break"
      ],
      "metadata": {
        "colab": {
          "base_uri": "https://localhost:8080/"
        },
        "id": "c2mskl30MNFN",
        "outputId": "39e1a961-6664-4be5-eabf-cbd41ac52d6e"
      },
      "execution_count": 10,
      "outputs": [
        {
          "output_type": "stream",
          "name": "stdout",
          "text": [
            "グー、チョキ、パーのいずれかを入力してくださいクー\n",
            "打ち間違いがあります。やり直してください\n"
          ]
        }
      ]
    },
    {
      "cell_type": "markdown",
      "source": [
        "[【初心者向け】データ分析で必須のPandasを入門しよう！ - AI Academy Media](https://aiacademy.jp/media/?p=152)\n",
        "\n"
      ],
      "metadata": {
        "id": "iz80Gnn_Qs-N"
      }
    },
    {
      "cell_type": "code",
      "source": [
        "!pip install pandas"
      ],
      "metadata": {
        "colab": {
          "base_uri": "https://localhost:8080/"
        },
        "id": "FCFoBJikQ8zJ",
        "outputId": "7c9feb50-5626-45d7-e1eb-dca13b027dca"
      },
      "execution_count": 11,
      "outputs": [
        {
          "output_type": "stream",
          "name": "stdout",
          "text": [
            "Requirement already satisfied: pandas in /usr/local/lib/python3.10/dist-packages (2.1.4)\n",
            "Requirement already satisfied: numpy<2,>=1.22.4 in /usr/local/lib/python3.10/dist-packages (from pandas) (1.26.4)\n",
            "Requirement already satisfied: python-dateutil>=2.8.2 in /usr/local/lib/python3.10/dist-packages (from pandas) (2.8.2)\n",
            "Requirement already satisfied: pytz>=2020.1 in /usr/local/lib/python3.10/dist-packages (from pandas) (2024.2)\n",
            "Requirement already satisfied: tzdata>=2022.1 in /usr/local/lib/python3.10/dist-packages (from pandas) (2024.1)\n",
            "Requirement already satisfied: six>=1.5 in /usr/local/lib/python3.10/dist-packages (from python-dateutil>=2.8.2->pandas) (1.16.0)\n"
          ]
        }
      ]
    },
    {
      "cell_type": "code",
      "source": [
        "import pandas"
      ],
      "metadata": {
        "id": "8PYwtk47SjdG"
      },
      "execution_count": 12,
      "outputs": []
    },
    {
      "cell_type": "code",
      "source": [
        "import pandas as pd\n",
        "df = pd.DataFrame({\n",
        "    '名前' :['田中', '山田', '高橋'],\n",
        "    '役割' : ['営業部長', '広報部', '技術責任者'],\n",
        "    '身長' : [178, 173, 169]\n",
        "    })\n",
        "print(df)\n",
        "print(df.dtypes)"
      ],
      "metadata": {
        "colab": {
          "base_uri": "https://localhost:8080/"
        },
        "id": "GFQgDP2VTWvf",
        "outputId": "854af774-1554-4439-ecf0-da3f6253e496"
      },
      "execution_count": 16,
      "outputs": [
        {
          "output_type": "stream",
          "name": "stdout",
          "text": [
            "   名前     役割   身長\n",
            "0  田中   営業部長  178\n",
            "1  山田    広報部  173\n",
            "2  高橋  技術責任者  169\n",
            "名前    object\n",
            "役割    object\n",
            "身長     int64\n",
            "dtype: object\n"
          ]
        }
      ]
    },
    {
      "cell_type": "code",
      "source": [
        "print(df.columns) # 列ラベルの確認(辞書型のkeyが列ラベル）"
      ],
      "metadata": {
        "colab": {
          "base_uri": "https://localhost:8080/"
        },
        "id": "J_-9vh99aGNw",
        "outputId": "64749dce-1985-4a28-e709-de523ca3cd1d"
      },
      "execution_count": 17,
      "outputs": [
        {
          "output_type": "stream",
          "name": "stdout",
          "text": [
            "Index(['名前', '役割', '身長'], dtype='object')\n"
          ]
        }
      ]
    },
    {
      "cell_type": "code",
      "source": [
        "import pandas as pd\n",
        "data = {\n",
        "    '名前' :['田中', '山田', '高橋'],\n",
        "    '役割' : ['営業部長', '広報部', '技術責任者'],\n",
        "    '身長' : [178, 173, 169]\n",
        "    }\n",
        "df = pd.DataFrame(data, columns=[\"名前\", \"役割\", \"身長\"]) # データフレーム生成時に対応するデータを持っていない場合、そのデータの列にはNaNが割り当てられます。\n",
        "# また下記のようにすることで、カラムの名称を変更・置換可能です\n",
        "df.columns = [\"Name\", \"Position\", \"height\"]\n",
        "print(df)"
      ],
      "metadata": {
        "colab": {
          "base_uri": "https://localhost:8080/"
        },
        "id": "n-EUHkJqaWgY",
        "outputId": "62e09f3c-d894-437f-db59-75d01ae2db0c"
      },
      "execution_count": 18,
      "outputs": [
        {
          "output_type": "stream",
          "name": "stdout",
          "text": [
            "  Name Position  height\n",
            "0   田中     営業部長     178\n",
            "1   山田      広報部     173\n",
            "2   高橋    技術責任者     169\n"
          ]
        }
      ]
    },
    {
      "cell_type": "code",
      "source": [
        "import pandas as pd\n",
        "df = pd.DataFrame([[10, 20,30, 30], [25, 50,65, 80]], index=[\"1行\", \"2行\"], columns=[\"A\", \"B\", \"C\", \"D\"])\n",
        "print(df)"
      ],
      "metadata": {
        "colab": {
          "base_uri": "https://localhost:8080/"
        },
        "id": "iCTHcz-Aab6d",
        "outputId": "fd6bc460-eaed-4c16-96f2-df5af80945cc"
      },
      "execution_count": 19,
      "outputs": [
        {
          "output_type": "stream",
          "name": "stdout",
          "text": [
            "     A   B   C   D\n",
            "1行  10  20  30  30\n",
            "2行  25  50  65  80\n"
          ]
        }
      ]
    },
    {
      "cell_type": "code",
      "source": [],
      "metadata": {
        "id": "7MvnKih7aqW4"
      },
      "execution_count": null,
      "outputs": []
    }
  ]
}